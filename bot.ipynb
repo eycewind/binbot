{
 "cells": [
  {
   "cell_type": "code",
   "execution_count": 28,
   "metadata": {},
   "outputs": [],
   "source": [
    "# Import the class from the Python file (module)\n",
    "from BinanceClient import BinanceClient\n",
    "import pandas as pd\n",
    "import matplotlib.pyplot as plt\n",
    "import os\n",
    "from dotenv import load_dotenv\n",
    "from pathlib import Path\n",
    "from sklearn.preprocessing import StandardScaler\n",
    "%matplotlib widget"
   ]
  },
  {
   "cell_type": "code",
   "execution_count": 2,
   "metadata": {},
   "outputs": [],
   "source": [
    "# Initialize Binance client with your API credentials\n",
    "dotenv_path = Path('.env-secret')\n",
    "load_dotenv(dotenv_path=dotenv_path)\n",
    "api_secret = os.getenv(\"BINANCE_SECRET_KEY\")\n",
    "api_key = os.getenv(\"BINANCE_API_KEY\")\n",
    "\n",
    "# Create Binance client\n",
    "binance_client = BinanceClient(api_key, api_secret)\n"
   ]
  },
  {
   "cell_type": "code",
   "execution_count": 4,
   "metadata": {},
   "outputs": [],
   "source": [
    "fetch_data_from_binance = False\n",
    "# Define trading pair and date range\n",
    "pair = \"BTCUSDT\"\n",
    "start_date = \"01 Jan, 2024\"\n",
    "end_date = \"01 Dec, 2024\"\n",
    "\n",
    "\n",
    "if fetch_data_from_binance:\n",
    "    # Fetch data\n",
    "    data = binance_client.fetch_data(pair, start_date, end_date)\n",
    "    binance_client.store_data_to_db(pair, data)\n",
    "else:\n",
    "    data = binance_client.fetch_data_from_db(pair, start_date, end_date)\n",
    "      "
   ]
  },
  {
   "cell_type": "markdown",
   "metadata": {},
   "source": [
    "#### Create dataframe "
   ]
  },
  {
   "cell_type": "code",
   "execution_count": 6,
   "metadata": {},
   "outputs": [],
   "source": [
    "  \n",
    "# Check if data is fetched\n",
    "if not data.empty:\n",
    "    # Convert the fetched data into a pandas DataFrame\n",
    "    df = pd.DataFrame(data, columns=['timestamp', 'open', 'high', 'low', 'close', 'volume', 'close_time', 'quote_asset_volume', 'number_of_trades', 'taker_buy_base_asset_volume', 'taker_buy_quote_asset_volume', 'ignore'])\n",
    "    \n",
    "    # Convert timestamp to datetime\n",
    "    df['timestamp'] = pd.to_datetime(df['timestamp'], unit='ms')\n",
    "    \n",
    "    # Set the timestamp as the index\n",
    "    df.set_index('timestamp', inplace=True)\n",
    "    \n",
    "    # Convert the columns to numeric (some values may be strings by default)\n",
    "    df[['open', 'high', 'low', 'close', 'volume']] = df[['open', 'high', 'low', 'close', 'volume']].apply(pd.to_numeric)\n",
    "\n",
    "else:\n",
    "    print(\"No data found!!!.\")"
   ]
  },
  {
   "cell_type": "code",
   "execution_count": 7,
   "metadata": {},
   "outputs": [
    {
     "name": "stdout",
     "output_type": "stream",
     "text": [
      "No missing data found\n"
     ]
    }
   ],
   "source": [
    "# Check for missing data\n",
    "# Compute differences in minutes between consecutive timestamps\n",
    "time_diffs = df.index.to_series().diff().dt.total_seconds() / 60\n",
    "\n",
    "# If everything is perfect, all intervals should be ~5 minutes\n",
    "missing_intervals = time_diffs[time_diffs > 5]\n",
    "\n",
    "if not missing_intervals.empty:\n",
    "    print(\"Missing data found... Kindly fix it!!\")\n",
    "else:\n",
    "    print(\"No missing data found\")\n"
   ]
  },
  {
   "cell_type": "code",
   "execution_count": null,
   "metadata": {},
   "outputs": [],
   "source": [
    "# Drop Nan Columns\n",
    "df.dropna(axis=1, inplace=True)\n"
   ]
  },
  {
   "cell_type": "markdown",
   "metadata": {},
   "source": [
    "#### Feature Engineering"
   ]
  },
  {
   "cell_type": "code",
   "execution_count": 9,
   "metadata": {},
   "outputs": [],
   "source": [
    "# Simple Moving Average (SMA)\n",
    "df['sma_10'] = df['close'].rolling(window=10).mean()\n",
    "df['sma_50'] = df['close'].rolling(window=50).mean()\n",
    "\n",
    "# Exponential Moving Average (EMA)\n",
    "df['ema_10'] = df['close'].ewm(span=10, adjust=False).mean()\n",
    "\n",
    "# Relative Strength Index (RSI)\n",
    "delta = df['close'].diff()\n",
    "gain = (delta.where(delta > 0, 0)).rolling(window=14).mean()\n",
    "loss = (-delta.where(delta < 0, 0)).rolling(window=14).mean()\n",
    "rs = gain / loss\n",
    "df['rsi_14'] = 100 - (100 / (1 + rs))\n",
    "\n",
    "# Moving Average Convergence Divergence (MACD)\n",
    "ema_12 = df['close'].ewm(span=12, adjust=False).mean()\n",
    "ema_26 = df['close'].ewm(span=26, adjust=False).mean()\n",
    "df['macd'] = ema_12 - ema_26\n",
    "df['macd_signal'] = df['macd'].ewm(span=9, adjust=False).mean()\n",
    "df['macd_hist'] = df['macd'] - df['macd_signal']\n",
    "\n",
    "# Volatility Indicators\n",
    "\n",
    "# Bollinger Bands\n",
    "sma_20 = df['close'].rolling(window=20).mean()\n",
    "std_20 = df['close'].rolling(window=20).std()\n",
    "df['bollinger_upper'] = sma_20 + (2 * std_20)\n",
    "df['bollinger_lower'] = sma_20 - (2 * std_20)\n",
    "\n",
    "# Average True Range (ATR)\n",
    "high_low = df['high'] - df['low']\n",
    "high_prev_close = (df['high'] - df['close'].shift()).abs()\n",
    "low_prev_close = (df['low'] - df['close'].shift()).abs()\n",
    "true_range = high_low.to_frame('hl').join(high_prev_close.to_frame('hpc')).join(low_prev_close.to_frame('lpc')).max(axis=1)\n",
    "df['atr_14'] = true_range.rolling(window=14).mean()\n",
    "\n",
    "# Volume-Based Features\n",
    "df['volume_ma_20'] = df['volume'].rolling(window=20).mean()\n",
    "df['volume_ratio'] = df['volume'] / df['volume_ma_20']\n",
    "\n",
    "# Derived Features\n",
    "\n",
    "# Rate of Change (ROC)\n",
    "df['roc_10'] = (df['close'] - df['close'].shift(10)) / df['close'].shift(10) * 100\n",
    "\n",
    "# Lagged Features\n",
    "df['close_lag_1'] = df['close'].shift(1)\n",
    "df['close_lag_3'] = df['close'].shift(3)\n",
    "df['macd_lag_1'] = df['close'].shift(1)\n",
    "\n",
    "# Candle Features\n",
    "df['candle_body'] = df['close'] - df['open']\n",
    "df['upper_wick'] = df['high'] - df[['close', 'open']].max(axis=1)\n",
    "df['lower_wick'] = df[['close', 'open']].min(axis=1) - df['low']\n"
   ]
  },
  {
   "cell_type": "markdown",
   "metadata": {},
   "source": [
    "#### Feature Scaling"
   ]
  },
  {
   "cell_type": "code",
   "execution_count": null,
   "metadata": {},
   "outputs": [],
   "source": [
    "# Drop NaNs\n",
    "df_clean = df.dropna()  # Drop all rows with NaNs\n",
    "\n",
    "# df is sorted by time and indexed by a datetime index\n",
    "n = len(df)\n",
    "train_end = int(n * 0.8)\n",
    "train_df = df.iloc[:train_end]\n",
    "test_df = df.iloc[train_end:]\n",
    "\n",
    "# Separate features and target\n",
    "X_train = train_df.drop('target', axis=1)\n",
    "y_train = train_df['target']\n",
    "X_test = test_df.drop('target', axis=1)\n",
    "y_test = test_df['target']\n",
    "\n",
    "# Scaling\n",
    "scaler = StandardScaler()\n",
    "scaler.fit(X_train)\n",
    "X_train_scaled = scaler.transform(X_train)\n",
    "X_test_scaled = scaler.transform(X_test)"
   ]
  },
  {
   "cell_type": "code",
   "execution_count": 30,
   "metadata": {},
   "outputs": [
    {
     "data": {
      "text/plain": [
       "Index(['open', 'high', 'low', 'close', 'volume', 'sma_10', 'sma_50', 'ema_10',\n",
       "       'rsi_14', 'macd', 'macd_signal', 'macd_hist', 'bollinger_upper',\n",
       "       'bollinger_lower', 'atr_14', 'volume_ma_20', 'volume_ratio', 'roc_10',\n",
       "       'close_lag_1', 'close_lag_3', 'macd_lag_1', 'candle_body', 'upper_wick',\n",
       "       'lower_wick'],\n",
       "      dtype='object')"
      ]
     },
     "execution_count": 30,
     "metadata": {},
     "output_type": "execute_result"
    }
   ],
   "source": [
    "df.columns"
   ]
  },
  {
   "cell_type": "code",
   "execution_count": null,
   "metadata": {},
   "outputs": [],
   "source": [
    "\n",
    "plt.clf()\n",
    "# Plot the closing price\n",
    "df['close']['2024-11-01':].plot(figsize=(18, 6), title=f'{pair} Close Price', xlabel='Date', ylabel='Price (USDT)')\n",
    "df['bollinger_upper']['2024-11-01':].plot(figsize=(18, 6), title=f'{pair} bollinger_upper', xlabel='Date', ylabel='Price (USDT)')\n",
    "df['bollinger_lower']['2024-11-01':].plot(figsize=(18, 6), title=f'{pair} bollinger_upper', xlabel='Date', ylabel='Price (USDT)')\n",
    "# df['macd']['2024-11-01':].plot(figsize=(18, 6), title=f'{pair} bollinger_upper', xlabel='Date', ylabel='Price (USDT)')\n",
    "plt.show() \n"
   ]
  },
  {
   "cell_type": "code",
   "execution_count": null,
   "metadata": {},
   "outputs": [],
   "source": []
  }
 ],
 "metadata": {
  "kernelspec": {
   "display_name": "Python (binbot)",
   "language": "python",
   "name": "binbot"
  },
  "language_info": {
   "codemirror_mode": {
    "name": "ipython",
    "version": 3
   },
   "file_extension": ".py",
   "mimetype": "text/x-python",
   "name": "python",
   "nbconvert_exporter": "python",
   "pygments_lexer": "ipython3",
   "version": "3.10.16"
  }
 },
 "nbformat": 4,
 "nbformat_minor": 2
}
