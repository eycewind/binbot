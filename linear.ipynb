{
 "cells": [
  {
   "cell_type": "code",
   "execution_count": 1,
   "metadata": {},
   "outputs": [
    {
     "name": "stdout",
     "output_type": "stream",
     "text": [
      "/home/ata/miniconda3/envs/binbot/bin/python\n",
      "/home/ata/miniconda3/envs/binbot/bin/jupyter\n"
     ]
    }
   ],
   "source": [
    "# Verify that we are using the correct Python (/home/ata/miniconda3/envs/ml/bin/)\n",
    "!which python\n",
    "!which jupyter"
   ]
  },
  {
   "cell_type": "code",
   "execution_count": 108,
   "metadata": {},
   "outputs": [],
   "source": [
    "# Import the class from the Python file (module)\n",
    "import pandas as pd\n",
    "import matplotlib.pyplot as plt\n",
    "import os\n",
    "from dotenv import load_dotenv\n",
    "from pathlib import Path\n",
    "from sklearn.preprocessing import StandardScaler\n",
    "from statsmodels.tsa.seasonal import seasonal_decompose\n",
    "import seaborn as sns\n",
    "from BinanceClient import BinanceClient\n",
    "import numpy as np\n",
    "from typing import Final\n",
    "%matplotlib widget"
   ]
  },
  {
   "cell_type": "code",
   "execution_count": 3,
   "metadata": {},
   "outputs": [],
   "source": [
    "# Initialize Binance client with your API credentials\n",
    "dotenv_path = Path('.env-secret')\n",
    "load_dotenv(dotenv_path=dotenv_path)\n",
    "api_secret = os.getenv(\"BINANCE_SECRET_KEY\")\n",
    "api_key = os.getenv(\"BINANCE_API_KEY\")\n",
    "\n",
    "# Create Binance client\n",
    "binance_client = BinanceClient(api_key, api_secret)\n"
   ]
  },
  {
   "cell_type": "markdown",
   "metadata": {},
   "source": [
    "#### Fetch pair data"
   ]
  },
  {
   "cell_type": "code",
   "execution_count": 13,
   "metadata": {},
   "outputs": [],
   "source": [
    "fetch_data_from_binance = False\n",
    "# Define trading pair and date range\n",
    "pair = \"BTCUSDT\"\n",
    "start_date = \"01 Jan, 2024\"\n",
    "end_date = \"01 Dec, 2024\"\n",
    "\n",
    "\n",
    "if fetch_data_from_binance:\n",
    "    # Fetch data\n",
    "    data = binance_client.fetch_data(pair, start_date, end_date)\n",
    "    binance_client.store_data_to_db(pair, data)\n",
    "else:\n",
    "    data = binance_client.fetch_data_from_db(pair, start_date, end_date)\n",
    "\n",
    "  # Check if data is fetched\n",
    "if not data.empty:\n",
    "    # Convert the fetched data into a pandas DataFrame\n",
    "    df = pd.DataFrame(data, columns=['timestamp', 'open', 'high', 'low', 'close', 'volume'])\n",
    "    \n",
    "    # Convert timestamp to datetime\n",
    "    df['timestamp'] = pd.to_datetime(df['timestamp'], unit='ms')\n",
    "    \n",
    "    # Set the timestamp as the index\n",
    "    df.set_index('timestamp', inplace=True)\n",
    "    \n",
    "    # Convert the columns to numeric (some values may be strings by default)\n",
    "    df[['open', 'high', 'low', 'close', 'volume']] = df[['open', 'high', 'low', 'close', 'volume']].apply(pd.to_numeric)\n",
    "else:\n",
    "    print(\"No data found!!!.\")  "
   ]
  },
  {
   "cell_type": "markdown",
   "metadata": {},
   "source": [
    "#### Define target "
   ]
  },
  {
   "cell_type": "code",
   "execution_count": null,
   "metadata": {},
   "outputs": [],
   "source": [
    "# Predict the percentage price change over the next 'n' candles\n",
    "nn = 12\n",
    "df['target'] = (df['close'].shift(nn) - df['close']) / df['close'] * 100"
   ]
  },
  {
   "cell_type": "markdown",
   "metadata": {},
   "source": [
    "#### Feature engineering"
   ]
  },
  {
   "cell_type": "code",
   "execution_count": 15,
   "metadata": {},
   "outputs": [],
   "source": [
    "# Simple Moving Average (SMA)\n",
    "df['sma_10'] = df['close'].rolling(window=10).mean()\n",
    "df['sma_50'] = df['close'].rolling(window=50).mean()\n",
    "\n",
    "# Exponential Moving Average (EMA)\n",
    "df['ema_10'] = df['close'].ewm(span=10, adjust=False).mean()\n",
    "\n",
    "# Relative Strength Index (RSI)\n",
    "delta = df['close'].diff()\n",
    "gain = (delta.where(delta > 0, 0)).rolling(window=14).mean()\n",
    "loss = (-delta.where(delta < 0, 0)).rolling(window=14).mean()\n",
    "rs = gain / loss\n",
    "df['rsi_14'] = 100 - (100 / (1 + rs))\n",
    "\n",
    "# Moving Average Convergence Divergence (MACD)\n",
    "ema_12 = df['close'].ewm(span=12, adjust=False).mean()\n",
    "ema_26 = df['close'].ewm(span=26, adjust=False).mean()\n",
    "df['macd'] = ema_12 - ema_26\n",
    "df['macd_signal'] = df['macd'].ewm(span=9, adjust=False).mean()\n",
    "df['macd_hist'] = df['macd'] - df['macd_signal']\n",
    "\n",
    "# Volatility Indicators\n",
    "\n",
    "# Bollinger Bands\n",
    "sma_20 = df['close'].rolling(window=20).mean()\n",
    "std_20 = df['close'].rolling(window=20).std()\n",
    "df['bollinger_upper'] = sma_20 + (2 * std_20)\n",
    "df['bollinger_lower'] = sma_20 - (2 * std_20)\n",
    "\n",
    "# Average True Range (ATR)\n",
    "high_low = df['high'] - df['low']\n",
    "high_prev_close = (df['high'] - df['close'].shift()).abs()\n",
    "low_prev_close = (df['low'] - df['close'].shift()).abs()\n",
    "true_range = high_low.to_frame('hl').join(high_prev_close.to_frame('hpc')).join(low_prev_close.to_frame('lpc')).max(axis=1)\n",
    "df['atr_14'] = true_range.rolling(window=14).mean()\n",
    "\n",
    "# Volume-Based Features\n",
    "df['volume_ma_20'] = df['volume'].rolling(window=20).mean()\n",
    "df['volume_ratio'] = df['volume'] / df['volume_ma_20']\n",
    "\n",
    "# Derived Features\n",
    "\n",
    "# Rate of Change (ROC)\n",
    "df['roc_10'] = (df['close'] - df['close'].shift(10)) / df['close'].shift(10) * 100\n",
    "\n",
    "# Lagged Features\n",
    "df['close_lag_1'] = df['close'].shift(1)\n",
    "df['close_lag_3'] = df['close'].shift(3)\n",
    "df['macd_lag_1'] = df['close'].shift(1)\n",
    "\n",
    "# Candle Features\n",
    "df['candle_body'] = df['close'] - df['open']\n",
    "df['upper_wick'] = df['high'] - df[['close', 'open']].max(axis=1)\n",
    "df['lower_wick'] = df[['close', 'open']].min(axis=1) - df['low']"
   ]
  },
  {
   "cell_type": "markdown",
   "metadata": {},
   "source": [
    "#### Test/Train Split"
   ]
  },
  {
   "cell_type": "code",
   "execution_count": 22,
   "metadata": {},
   "outputs": [],
   "source": [
    "# drop NaNs\n",
    "df.dropna(inplace=True)\n",
    "\n",
    "# df is sorted by time and indexed by a datetime index\n",
    "n = len(df)\n",
    "train_end = int(n * 0.8) # 80% data used for training\n",
    "train_df = df.iloc[:train_end]\n",
    "test_df = df.iloc[train_end:]\n",
    "\n",
    "# Separate features and target\n",
    "X_train = train_df.drop(['target', 'close'], axis=1)\n",
    "y_train = train_df['target']\n",
    "\n",
    "X_test = test_df.drop(['target', 'close'], axis=1)\n",
    "y_test = test_df['target']\n"
   ]
  },
  {
   "cell_type": "markdown",
   "metadata": {},
   "source": [
    "#### Grid Search for Hyperparameter Tuning "
   ]
  },
  {
   "cell_type": "code",
   "execution_count": null,
   "metadata": {},
   "outputs": [],
   "source": [
    "from xgboost import XGBRegressor\n",
    "from sklearn.pipeline import Pipeline\n",
    "from sklearn.ensemble import RandomForestRegressor\n",
    "from sklearn.preprocessing import StandardScaler\n",
    "from sklearn.model_selection import TimeSeriesSplit, GridSearchCV\n",
    "\n",
    "# # Define the model with GPU support\n",
    "# xgb_reg = XGBRegressor(tree_method='hist', device='cuda')\n",
    "\n",
    "# # Define your model and pipeline\n",
    "# pipeline = Pipeline([\n",
    "#     ('scaler', StandardScaler()),  # Scaling step\n",
    "#     ('regressor', xgb_reg)  # Model\n",
    "# ])\n",
    "pipeline = Pipeline([\n",
    "    ('scaler', StandardScaler()),  # Scaling step\n",
    "    ('regressor', RandomForestRegressor())  # Model\n",
    "])\n",
    "\n",
    "# Define hyperparameter grid for the regressor\n",
    "param_grid = {\n",
    "    'regressor__n_estimators': [10, 50, 100],\n",
    "    'regressor__max_depth': [3, 5, 10],\n",
    "    'regressor__max_features': [5, 10, 15],\n",
    "    'regressor__bootstrap': [True, False]\n",
    "}\n",
    "# param_grid = {\n",
    "#     'n_estimators': [50, 100, 150],\n",
    "#     'max_depth': [3, 5, 7],\n",
    "#     'learning_rate': [0.01, 0.1, 0.2],\n",
    "# }\n",
    "\n",
    "\n",
    "# Use TimeSeriesSplit for cross-validation\n",
    "time_series_split = TimeSeriesSplit(n_splits=5)\n",
    "\n",
    "# Perform grid search with pipeline\n",
    "grid_search = GridSearchCV(\n",
    "    pipeline,\n",
    "    param_grid,\n",
    "    scoring='neg_mean_squared_error',\n",
    "    cv=time_series_split,\n",
    "    return_train_score=True,\n",
    "    verbose=3\n",
    ")\n",
    "\n",
    "# Fit the pipeline\n",
    "grid_search.fit(X_train, y_train)\n"
   ]
  },
  {
   "cell_type": "markdown",
   "metadata": {},
   "source": [
    "#### Save GridSearch Results"
   ]
  },
  {
   "cell_type": "code",
   "execution_count": 93,
   "metadata": {},
   "outputs": [
    {
     "data": {
      "text/plain": [
       "['grid_search_results.pkl']"
      ]
     },
     "execution_count": 93,
     "metadata": {},
     "output_type": "execute_result"
    }
   ],
   "source": [
    "import joblib\n",
    "\n",
    "# Save the GridSearchCV object\n",
    "joblib.dump(grid_search, 'grid_search_results.pkl')"
   ]
  },
  {
   "cell_type": "markdown",
   "metadata": {},
   "source": [
    "#### Load saves GridSearch results"
   ]
  },
  {
   "cell_type": "code",
   "execution_count": 9,
   "metadata": {},
   "outputs": [],
   "source": [
    "import joblib\n",
    "\n",
    "# Load GridSearch results\n",
    "grid_search = joblib.load('grid_search_results.pkl')\n"
   ]
  },
  {
   "cell_type": "markdown",
   "metadata": {},
   "source": [
    "#### Analyse grid search results"
   ]
  },
  {
   "cell_type": "code",
   "execution_count": 17,
   "metadata": {},
   "outputs": [
    {
     "name": "stdout",
     "output_type": "stream",
     "text": [
      "Best Parameters: {'regressor__bootstrap': True, 'regressor__max_depth': 10, 'regressor__max_features': 10, 'regressor__n_estimators': 100}\n",
      "Best Score: -0.03582902265400254\n"
     ]
    }
   ],
   "source": [
    "# Access best parameters or results\n",
    "print(\"Best Parameters:\", grid_search.best_params_)\n",
    "print(\"Best Score:\", grid_search.best_score_)\n",
    "\n",
    "# Best model\n",
    "best_model = grid_search.best_estimator_"
   ]
  },
  {
   "cell_type": "markdown",
   "metadata": {},
   "source": [
    "#### Best Model Training"
   ]
  },
  {
   "cell_type": "code",
   "execution_count": 23,
   "metadata": {},
   "outputs": [
    {
     "name": "stdout",
     "output_type": "stream",
     "text": [
      "         Feature  Importance\n",
      "16        roc_10    0.453444\n",
      "7         rsi_14    0.199669\n",
      "10     macd_hist    0.174613\n",
      "8           macd    0.093435\n",
      "9    macd_signal    0.024197\n",
      "3         volume    0.018102\n",
      "13        atr_14    0.015515\n",
      "14  volume_ma_20    0.007559\n",
      "20   candle_body    0.002826\n",
      "15  volume_ratio    0.001582\n"
     ]
    }
   ],
   "source": [
    "from sklearn.ensemble import RandomForestRegressor\n",
    "\n",
    "# Extract best parameters from GridSearchCV\n",
    "best_params = grid_search.best_params_\n",
    "\n",
    "# Remove 'regressor__' prefix to pass parameters directly to the model\n",
    "model_params = {key.replace('regressor__', ''): value for key, value in best_params.items()}\n",
    "\n",
    "# Train the model using the best parameters\n",
    "best_model = RandomForestRegressor(**model_params)\n",
    "\n",
    "# NOTE: Feature scaling is not requiredfor Random Forest regressor\n",
    "best_model.fit(X_train, y_train)\n",
    "\n",
    "# Get feature importances\n",
    "feature_importances = best_model.feature_importances_\n",
    "\n",
    "# Create a DataFrame for better visualization\n",
    "feature_importance_df = pd.DataFrame({\n",
    "    'Feature': X_train.columns,\n",
    "    'Importance': feature_importances\n",
    "})\n",
    "\n",
    "# Sort features by importance\n",
    "feature_importance_df = feature_importance_df.sort_values(by='Importance', ascending=False)\n",
    "\n",
    "# Display the top 10 features\n",
    "print(feature_importance_df.head(10))"
   ]
  },
  {
   "cell_type": "markdown",
   "metadata": {},
   "source": [
    "#### Best Model Prediction"
   ]
  },
  {
   "cell_type": "code",
   "execution_count": 24,
   "metadata": {},
   "outputs": [
    {
     "name": "stdout",
     "output_type": "stream",
     "text": [
      "Mean Squared Error (MSE): 0.024988198244436568\n",
      "Mean Absolute Error (MAE): 0.10911764024938797\n",
      "R² Score: 0.8975741313672629\n"
     ]
    }
   ],
   "source": [
    "from sklearn.metrics import mean_squared_error, mean_absolute_error, r2_score\n",
    "\n",
    "# Predict on test data\n",
    "y_pred = best_model.predict(X_test)\n",
    "\n",
    "# Calculate metrics\n",
    "mse = mean_squared_error(y_test, y_pred)\n",
    "mae = mean_absolute_error(y_test, y_pred)\n",
    "r2 = r2_score(y_test, y_pred)\n",
    "\n",
    "print(\"Mean Squared Error (MSE):\", mse)\n",
    "print(\"Mean Absolute Error (MAE):\", mae)\n",
    "print(\"R² Score:\", r2)\n"
   ]
  },
  {
   "cell_type": "code",
   "execution_count": null,
   "metadata": {},
   "outputs": [],
   "source": [
    "import matplotlib.pyplot as plt\n",
    "\n",
    "plt.figure(figsize=(12, 6))\n",
    "plt.plot(y_test.values, label=\"Actual\", alpha=0.8)\n",
    "plt.plot(y_pred, label=\"Predicted\", alpha=0.8)\n",
    "plt.legend()\n",
    "plt.title(\"Actual vs. Predicted Stock Price Changes (Next Hour)\")\n",
    "plt.xlabel(\"Time Steps\")\n",
    "plt.ylabel(\"Percentage Change\")\n",
    "plt.show()\n"
   ]
  },
  {
   "cell_type": "markdown",
   "metadata": {},
   "source": [
    "#### Generate Predictions"
   ]
  },
  {
   "cell_type": "code",
   "execution_count": 26,
   "metadata": {},
   "outputs": [],
   "source": [
    "# Use the model's predictions\n",
    "predictions = best_model.predict(X_test)  # Predicted percentage changes\n",
    "y_pred_train  = best_model.predict(X_train)  # Predicted percentage changes"
   ]
  },
  {
   "cell_type": "markdown",
   "metadata": {},
   "source": [
    "### Trading Signal Generation & Back Testing"
   ]
  },
  {
   "cell_type": "code",
   "execution_count": 110,
   "metadata": {},
   "outputs": [],
   "source": [
    "INITIAL_BALANCE = 10000  # Starting with $10,000"
   ]
  },
  {
   "cell_type": "markdown",
   "metadata": {},
   "source": [
    "##### Trade Simulator"
   ]
  },
  {
   "cell_type": "code",
   "execution_count": 117,
   "metadata": {},
   "outputs": [],
   "source": [
    "def simulate_trades(signals, prices, initial_balance=1000):\n",
    "    \"\"\"\n",
    "    Simulates trades based on signals and actual price changes.\n",
    "\n",
    "    Args:\n",
    "        actual_changes (list or pd.Series): Actual percentage changes (not predicted).\n",
    "        signals (list): List of trading signals (\"Buy\", \"Sell\", \"Hold\").\n",
    "        prices (list or pd.Series): Actual price values for the asset.\n",
    "        initial_balance (float): Starting balance of the trading account.\n",
    "\n",
    "    Returns:\n",
    "        float: Final balance or cumulative profit.\n",
    "    \"\"\"\n",
    "    balance = INITIAL_BALANCE\n",
    "    position = 0  # Tracks the number of stocks held\n",
    "    entry_price = None  # Store the price when a \"Buy\" was executed\n",
    "    \n",
    "    for i, signal in enumerate(signals):\n",
    "        if signal == \"Buy\" and balance > 0:\n",
    "            # Execute a buy\n",
    "            entry_price = prices.iloc[i]  # Use .iloc for positional indexing\n",
    "            position = balance / entry_price  # Buy with all available balance\n",
    "            balance = 0  # All balance used to buy\n",
    "        elif signal == \"Sell\" and position > 0:\n",
    "            # Execute a sell\n",
    "            exit_price = prices.iloc[i]  # Use .iloc for positional indexing\n",
    "            balance = position * exit_price  # Convert position to cash\n",
    "            position = 0  # Clear position\n",
    "            entry_price = None  # Reset entry price after selling\n",
    "\n",
    "    # If there's a remaining position at the end, calculate its value\n",
    "    if position > 0 and entry_price is not None:\n",
    "        balance += position * prices.iloc[-1]  # Use .iloc for positional indexing\n",
    "\n",
    "    return balance - INITIAL_BALANCE  # Return cumulative profit\n"
   ]
  },
  {
   "cell_type": "markdown",
   "metadata": {},
   "source": [
    "#### Trade Signal Generation"
   ]
  },
  {
   "cell_type": "markdown",
   "metadata": {},
   "source": [
    "##### Advance Trade Signal Generation"
   ]
  },
  {
   "cell_type": "markdown",
   "metadata": {},
   "source": [
    "**Generate a Search Space**"
   ]
  },
  {
   "cell_type": "code",
   "execution_count": 91,
   "metadata": {},
   "outputs": [],
   "source": [
    "import numpy as np\n",
    "buy_thresholds = np.arange(-0.7, -0.3, 0.01)\n",
    "sell_thresholds = np.arange(0.3, 0.7, 0.01)\n",
    "\n",
    "# Add signals to a DataFrame for analysis\n",
    "results_df = X_test.copy()\n",
    "results_df['Predicted Change'] = predictions\n",
    "# Compute predicted prices based on the previous close and Predicted Change\n",
    "results_df['Predicted Price'] = results_df['close_lag_1'] * (1 + results_df['Predicted Change'] / 100)\n"
   ]
  },
  {
   "cell_type": "markdown",
   "metadata": {},
   "source": [
    "##### Evaluate Thresholds"
   ]
  },
  {
   "cell_type": "code",
   "execution_count": 118,
   "metadata": {},
   "outputs": [
    {
     "name": "stdout",
     "output_type": "stream",
     "text": [
      "Best Buy Threshold: -0.3099999999999996, Best Sell Threshold: 0.3\n",
      "Best Performance: 366777.20707921335\n"
     ]
    }
   ],
   "source": [
    "best_buy_threshold = None\n",
    "best_sell_threshold = None\n",
    "best_performance = -np.inf\n",
    "\n",
    "for buy_th in buy_thresholds:\n",
    "    for sell_th in sell_thresholds:\n",
    "        # Generate signals\n",
    "        trading_signals = [\n",
    "            \"Buy\" if pred < buy_th else \"Sell\" if pred > sell_th else \"Hold\"\n",
    "            for pred in results_df['Predicted Change']\n",
    "        ]\n",
    "        \n",
    "        # Simulate trades and calculate performance\n",
    "        performance = simulate_trades(\n",
    "            signals=trading_signals,\n",
    "            prices=results_df['Predicted Price'],  # Use the computed predicted prices\n",
    "            initial_balance=INITIAL_BALANCE\n",
    "        )\n",
    "        \n",
    "        # Update best thresholds if current performance is better\n",
    "        if performance > best_performance:\n",
    "            best_performance = performance\n",
    "            best_buy_threshold = buy_th\n",
    "            best_sell_threshold = sell_th\n",
    "\n",
    "print(f\"Best Buy Threshold: {best_buy_threshold}, Best Sell Threshold: {best_sell_threshold}\")\n",
    "print(f\"Best Performance: {best_performance}\")\n"
   ]
  },
  {
   "cell_type": "markdown",
   "metadata": {},
   "source": [
    "#### Beck Testing "
   ]
  },
  {
   "cell_type": "code",
   "execution_count": 133,
   "metadata": {},
   "outputs": [
    {
     "name": "stdout",
     "output_type": "stream",
     "text": [
      "predicted close - acutal close ftimestamp\n",
      "2024-09-24 20:50:00    208.704790\n",
      "2024-09-24 20:55:00    -15.326467\n",
      "2024-09-24 21:00:00    -25.907169\n",
      "2024-09-24 21:05:00     33.308066\n",
      "2024-09-24 21:10:00     18.062142\n",
      "2024-09-24 21:15:00   -275.029178\n",
      "2024-09-24 21:20:00   -181.087001\n",
      "2024-09-24 21:25:00   -129.360042\n",
      "2024-09-24 21:30:00   -237.933184\n",
      "2024-09-24 21:35:00   -230.090509\n",
      "dtype: float64\n"
     ]
    }
   ],
   "source": [
    "delta = results_df['close'][:10] - results_df['Predicted Price'][:10]\n",
    "print(f'predicted close - acutal close f{delta}')"
   ]
  },
  {
   "cell_type": "code",
   "execution_count": 112,
   "metadata": {},
   "outputs": [
    {
     "name": "stdout",
     "output_type": "stream",
     "text": [
      "Final Balance: $11813.30\n",
      "Net Profit: $1813.30\n"
     ]
    }
   ],
   "source": [
    "# Define buy & sell thrsholds\n",
    "buy_threshold = -0.309999\n",
    "sell_threshold = 0.3\n",
    "\n",
    "balance = INITIAL_BALANCE\n",
    "position = 0  # No stock initially\n",
    "trading_log = []  # To store completed trades\n",
    "\n",
    "# Generate signals with reversed logic\n",
    "trading_signals = [\n",
    "    \"Buy\" if pred < buy_threshold else \"Sell\" if pred > sell_threshold else \"Hold\"\n",
    "    for pred in predictions\n",
    "]\n",
    "\n",
    "results_df['Signal'] = trading_signals\n",
    "\n",
    "# Add 'open' and 'close' prices from the original DataFrame to results DataFrame\n",
    "results_df['open'] = df.loc[results_df.index, 'open']\n",
    "results_df['close'] = df.loc[results_df.index, 'close']\n",
    "\n",
    "# Variables to track ongoing trades\n",
    "buy_price = None\n",
    "buy_date = None\n",
    "buy_volume = None\n",
    "\n",
    "# Iterate over results_df for backtesting\n",
    "for index, row in results_df.iterrows():\n",
    "    signal = row['Signal']\n",
    "    price = row['close']  # Use 'open' price for Buy\n",
    "    volume = balance / price if signal == \"Buy\" and balance > 0 else position  # Calculate volume\n",
    "\n",
    "    if signal == \"Buy\" and balance > 0:\n",
    "        # Record Buy details\n",
    "        buy_price = price\n",
    "        buy_date = index\n",
    "        buy_volume = volume\n",
    "        position = volume  # Update position\n",
    "        balance = 0  # All money is invested\n",
    "\n",
    "    elif signal == \"Sell\" and position > 0:\n",
    "        # Calculate profit/loss for the completed trade\n",
    "        sell_price = row['close']  # Use 'close' price for Sell\n",
    "        profit_loss = (sell_price - buy_price) * buy_volume\n",
    "        balance = sell_price * buy_volume  # Update balance after selling\n",
    "        position = 0  # No stock left\n",
    "\n",
    "        # Record the completed trade in the log\n",
    "        trading_log.append({\n",
    "            \"Buy Date\": buy_date,\n",
    "            \"Buy Price\": buy_price,\n",
    "            \"Buy Volume\": buy_volume,\n",
    "            \"Sell Date\": index,\n",
    "            \"Sell Price\": sell_price,\n",
    "            \"Sell Volume\": buy_volume,\n",
    "            \"Profit/Loss\": profit_loss\n",
    "        })\n",
    "\n",
    "        # Reset Buy details\n",
    "        buy_price = None\n",
    "        buy_date = None\n",
    "        buy_volume = None\n",
    "\n",
    "# Final portfolio value\n",
    "if position > 0:\n",
    "    final_price = results_df.iloc[-1]['close']\n",
    "    final_profit_loss = (final_price - buy_price) * buy_volume\n",
    "    balance = final_price * buy_volume  # Update balance with remaining shares\n",
    "    trading_log.append({\n",
    "        \"Buy Date\": buy_date,\n",
    "        \"Buy Price\": buy_price,\n",
    "        \"Buy Volume\": buy_volume,\n",
    "        \"Sell Date\": results_df.index[-1],\n",
    "        \"Sell Price\": final_price,\n",
    "        \"Sell Volume\": buy_volume,\n",
    "        \"Profit/Loss\": final_profit_loss\n",
    "    })\n",
    "\n",
    "# Convert trading log to a DataFrame for better analysis\n",
    "trading_log_df = pd.DataFrame(trading_log)\n",
    "\n",
    "# Print the final results\n",
    "print(f\"Final Balance: ${balance:.2f}\")\n",
    "print(f\"Net Profit: ${balance - INITIAL_BALANCE:.2f}\")\n",
    "\n",
    "# Print the trading log\n",
    "# print(trading_log_df)\n",
    "# trading_log_df.head()\n"
   ]
  },
  {
   "cell_type": "code",
   "execution_count": null,
   "metadata": {},
   "outputs": [],
   "source": [
    "import matplotlib.pyplot as plt\n",
    "plt.clf()\n",
    "plt.hist(predictions, bins=50, alpha=0.7)\n",
    "plt.title(\"Distribution of Predictions\")\n",
    "plt.xlabel(\"Predicted Change\")\n",
    "plt.ylabel(\"Frequency\")\n",
    "plt.show()\n"
   ]
  },
  {
   "cell_type": "markdown",
   "metadata": {},
   "source": [
    "#### Compute Baseline"
   ]
  },
  {
   "cell_type": "code",
   "execution_count": null,
   "metadata": {},
   "outputs": [
    {
     "name": "stdout",
     "output_type": "stream",
     "text": [
      "Baseline Final Balance: $15093.49\n",
      "Baseline Strategy Profit/Loss: $5093.49\n"
     ]
    }
   ],
   "source": [
    "# Get starting and ending prices\n",
    "initial_price = results_df.iloc[0]['close']  # Opening price at the first date\n",
    "final_price = results_df.iloc[-1]['close']  # Closing price at the last date\n",
    "\n",
    "# Calculate number of shares purchased with initial balance\n",
    "shares = INITIAL_BALANCE / initial_price\n",
    "\n",
    "# Calculate final balance\n",
    "final_balance_baseline = shares * final_price\n",
    "\n",
    "# Calculate profit/loss for the baseline strategy\n",
    "profit_loss_baseline = final_balance_baseline - INITIAL_BALANCE\n",
    "\n",
    "# Print results\n",
    "print(f\"Baseline Final Balance: ${final_balance_baseline:.2f}\")\n",
    "print(f\"Baseline Strategy Profit/Loss: ${profit_loss_baseline:.2f}\")\n"
   ]
  },
  {
   "cell_type": "markdown",
   "metadata": {},
   "source": [
    "#### Baseline Comparison"
   ]
  },
  {
   "cell_type": "code",
   "execution_count": 51,
   "metadata": {},
   "outputs": [
    {
     "name": "stdout",
     "output_type": "stream",
     "text": [
      "Estimator Profit/Loss: $16798.10\n",
      "Difference vs. Baseline: $11704.61\n",
      "Performance Improvement: 229.80%\n"
     ]
    }
   ],
   "source": [
    "# Assuming `profit_loss_estimator` is calculated from your trading log\n",
    "profit_loss_estimator = trading_log_df['Profit/Loss'].sum()\n",
    "\n",
    "# Calculate difference and percentage improvement\n",
    "difference = profit_loss_estimator - profit_loss_baseline\n",
    "improvement_percentage = (difference / abs(profit_loss_baseline)) * 100 if profit_loss_baseline != 0 else None\n",
    "\n",
    "# Print comparison\n",
    "print(f\"Estimator Profit/Loss: ${profit_loss_estimator:.2f}\")\n",
    "print(f\"Difference vs. Baseline: ${difference:.2f}\")\n",
    "if improvement_percentage is not None:\n",
    "    print(f\"Performance Improvement: {improvement_percentage:.2f}%\")\n",
    "else:\n",
    "    print(\"Baseline profit/loss is zero, percentage improvement cannot be calculated.\")\n"
   ]
  },
  {
   "cell_type": "code",
   "execution_count": null,
   "metadata": {},
   "outputs": [
    {
     "name": "stdout",
     "output_type": "stream",
     "text": [
      "Momentum Strategy Profit/Loss: $3364.80\n"
     ]
    }
   ],
   "source": [
    "# Calculate momentum (percentage change in price)\n",
    "momentum_threshold = 0.01  # 1% change as momentum threshold\n",
    "momentum_signals = results_df['close'].pct_change()  # Calculate percentage change\n",
    "momentum_trades = momentum_signals[momentum_signals.abs() > momentum_threshold]\n",
    "\n",
    "# Initialize profit/loss calculation for momentum strategy\n",
    "momentum_profit_loss = 0\n",
    "balance = INITIAL_BALANCE\n",
    "position = 0\n",
    "\n",
    "# Iterate through momentum trades\n",
    "for idx, change in momentum_trades.items():  # Use .items() for Series iteration\n",
    "    price = results_df.loc[idx, 'close']\n",
    "    if change > 0 and balance > 0:  # Buy signal\n",
    "        position = balance / price\n",
    "        balance = 0\n",
    "    elif change < 0 and position > 0:  # Sell signal\n",
    "        balance = position * price\n",
    "        position = 0\n",
    "\n",
    "# Final balance if still holding shares\n",
    "if position > 0:\n",
    "    balance += position * results_df.iloc[-1]['close']\n",
    "\n",
    "momentum_profit_loss = balance - INITIAL_BALANCE\n",
    "\n",
    "print(f\"Momentum Strategy Profit/Loss: ${momentum_profit_loss:.2f}\")\n"
   ]
  },
  {
   "cell_type": "code",
   "execution_count": 43,
   "metadata": {},
   "outputs": [
    {
     "name": "stdout",
     "output_type": "stream",
     "text": [
      "Mean-Reversion Strategy Profit/Loss: $2099.77\n"
     ]
    }
   ],
   "source": [
    "rolling_window = 20\n",
    "results_df['SMA'] = results_df['close'].rolling(rolling_window).mean()\n",
    "results_df['Deviation'] = results_df['close'] - results_df['SMA']\n",
    "\n",
    "# Drop NaN rows to avoid issues with rolling mean\n",
    "mean_reversion_trades = results_df.dropna()\n",
    "\n",
    "# Generate signals explicitly with .loc\n",
    "mean_reversion_trades.loc[:, 'Signal'] = mean_reversion_trades['Deviation'].apply(\n",
    "    lambda x: 'Buy' if x < 0 else 'Sell'\n",
    ")\n",
    "\n",
    "# Simulate mean-reversion trading\n",
    "balance = initial_balance\n",
    "position = 0\n",
    "mean_reversion_profit_loss = 0\n",
    "\n",
    "for idx, row in mean_reversion_trades.iterrows():\n",
    "    price = row['close']\n",
    "    signal = row['Signal']\n",
    "    if signal == 'Buy' and balance > 0:  # Buy\n",
    "        position = balance / price\n",
    "        balance = 0\n",
    "    elif signal == 'Sell' and position > 0:  # Sell\n",
    "        balance = position * price\n",
    "        position = 0\n",
    "\n",
    "# Final balance if still holding shares\n",
    "if position > 0:\n",
    "    balance += position * results_df.iloc[-1]['close']\n",
    "\n",
    "mean_reversion_profit_loss = balance - initial_balance\n",
    "\n",
    "print(f\"Mean-Reversion Strategy Profit/Loss: ${mean_reversion_profit_loss:.2f}\")\n"
   ]
  },
  {
   "cell_type": "code",
   "execution_count": 52,
   "metadata": {},
   "outputs": [
    {
     "name": "stdout",
     "output_type": "stream",
     "text": [
      "ML Estimator Profit/Loss: $16798.10\n",
      "Baseline Profit/Loss: $5093.49\n",
      "Momentum Strategy Profit/Loss: $3364.80\n",
      "Mean-Reversion Strategy Profit/Loss: $2099.77\n"
     ]
    }
   ],
   "source": [
    "print(f\"ML Estimator Profit/Loss: ${profit_loss_estimator:.2f}\")\n",
    "print(f\"Baseline Profit/Loss: ${profit_loss_baseline:.2f}\")\n",
    "print(f\"Momentum Strategy Profit/Loss: ${momentum_profit_loss:.2f}\")\n",
    "print(f\"Mean-Reversion Strategy Profit/Loss: ${mean_reversion_profit_loss:.2f}\")"
   ]
  },
  {
   "cell_type": "markdown",
   "metadata": {},
   "source": [
    "#### Visualizations"
   ]
  },
  {
   "cell_type": "code",
   "execution_count": null,
   "metadata": {},
   "outputs": [],
   "source": [
    "import matplotlib.pyplot as plt\n",
    "\n",
    "# Add predicted prices to results_df\n",
    "results_df['Predicted Price'] = results_df['close'] * (1 + results_df['Predicted Change'] / 100)\n",
    "\n",
    "# Plot the predicted prices\n",
    "plt.clf()\n",
    "plt.figure(figsize=(14, 7))\n",
    "plt.plot(results_df.index, results_df['Predicted Price'], label='Predicted Price', color='blue', alpha=0.7)\n",
    "\n",
    "# Use trading_log_df for Buy and Sell points\n",
    "buy_signals = trading_log_df.dropna(subset=['Buy Date'])\n",
    "sell_signals = trading_log_df.dropna(subset=['Sell Date'])\n",
    "\n",
    "# Map Buy/Sell signals to values from results_df['close']\n",
    "buy_close_prices = [results_df.loc[row['Buy Date'], 'Predicted Price'] for _, row in buy_signals.iterrows()]\n",
    "sell_close_prices = [results_df.loc[row['Sell Date'], 'Predicted Price'] for _, row in sell_signals.iterrows()]\n",
    "\n",
    "# Plot Buy signals as green squares at actual 'close' prices\n",
    "plt.scatter(\n",
    "    buy_signals['Buy Date'],\n",
    "    buy_close_prices,\n",
    "    label='Buy Signal',\n",
    "    color='green',\n",
    "    marker='s',\n",
    "    alpha=0.8\n",
    ")\n",
    "\n",
    "# Plot Sell signals as red circles at actual 'close' prices\n",
    "plt.scatter(\n",
    "    sell_signals['Sell Date'],\n",
    "    sell_close_prices,\n",
    "    label='Sell Signal',\n",
    "    color='red',\n",
    "    marker='o',\n",
    "    alpha=0.8\n",
    ")\n",
    "\n",
    "# Add labels, title, legend, and grid\n",
    "plt.title(\"Trading Signals Over Predicted Prices (Using Actual Close Prices)\")\n",
    "plt.xlabel(\"Time\")\n",
    "plt.ylabel(\"Price\")\n",
    "plt.legend()\n",
    "plt.grid(True)\n",
    "plt.show()\n"
   ]
  },
  {
   "cell_type": "code",
   "execution_count": null,
   "metadata": {},
   "outputs": [],
   "source": [
    "import matplotlib.pyplot as plt\n",
    "\n",
    "# Add predicted prices to results_df\n",
    "results_df['Predicted Price'] = results_df['close'] * (1 + results_df['Predicted Change'] / 100)\n",
    "\n",
    "# Plot the predicted prices\n",
    "plt.clf()\n",
    "plt.figure(figsize=(14, 7))\n",
    "plt.plot(results_df.index, results_df['close'], label='Predicted Price', color='blue', alpha=0.7)\n",
    "\n",
    "# Use trading_log_df for Buy and Sell points\n",
    "buy_signals = trading_log_df.dropna(subset=['Buy Date'])\n",
    "sell_signals = trading_log_df.dropna(subset=['Sell Date'])\n",
    "\n",
    "# Map Buy/Sell signals to values from results_df['close']\n",
    "buy_close_prices = [results_df.loc[row['Buy Date'], 'close'] for _, row in buy_signals.iterrows()]\n",
    "sell_close_prices = [results_df.loc[row['Sell Date'], 'close'] for _, row in sell_signals.iterrows()]\n",
    "\n",
    "# Plot Buy signals as green squares at actual 'close' prices\n",
    "plt.scatter(\n",
    "    buy_signals['Buy Date'],\n",
    "    buy_close_prices,\n",
    "    label='Buy Signal',\n",
    "    color='green',\n",
    "    marker='s',\n",
    "    alpha=0.8\n",
    ")\n",
    "\n",
    "# Plot Sell signals as red circles at actual 'close' prices\n",
    "plt.scatter(\n",
    "    sell_signals['Sell Date'],\n",
    "    sell_close_prices,\n",
    "    label='Sell Signal',\n",
    "    color='red',\n",
    "    marker='o',\n",
    "    alpha=0.8\n",
    ")\n",
    "\n",
    "# Add labels, title, legend, and grid\n",
    "plt.title(\"Trading Signals Over Predicted Prices (Using Actual Close Prices)\")\n",
    "plt.xlabel(\"Time\")\n",
    "plt.ylabel(\"Price\")\n",
    "plt.legend()\n",
    "plt.grid(True)\n",
    "plt.show()\n"
   ]
  },
  {
   "cell_type": "code",
   "execution_count": null,
   "metadata": {},
   "outputs": [],
   "source": [
    "import matplotlib.pyplot as plt\n",
    "\n",
    "# Add predicted prices to results_df (if not already added)\n",
    "results_df['Predicted Price'] = results_df['close'] * (1 + results_df['Predicted Change'] / 100)\n",
    "\n",
    "# Plot the predicted prices\n",
    "plt.figure(figsize=(14, 7))\n",
    "plt.plot(results_df.index, results_df['close'], label='Actual Close', color='blue', alpha=0.7)\n",
    "\n",
    "# Use trading_log_df for Buy and Sell points\n",
    "buy_signals = trading_log_df.dropna(subset=['Buy Date'])\n",
    "sell_signals = trading_log_df.dropna(subset=['Sell Date'])\n",
    "\n",
    "# Add vertical lines for Buy signals\n",
    "for _, row in buy_signals.iterrows():\n",
    "    plt.axvline(\n",
    "        x=row['Buy Date'], \n",
    "        color='green', \n",
    "        linestyle='--', \n",
    "        linewidth=2,  # Increased line thickness\n",
    "        label='Buy Signal' if 'Buy Signal' not in plt.gca().get_legend_handles_labels()[1] else \"\", \n",
    "        alpha=0.25\n",
    "    )\n",
    "\n",
    "# Add vertical lines for Sell signals\n",
    "for _, row in sell_signals.iterrows():\n",
    "    plt.axvline(\n",
    "        x=row['Sell Date'], \n",
    "        color='red', \n",
    "        linestyle='-', \n",
    "        linewidth=2,  # Increased line thickness\n",
    "        label='Sell Signal' if 'Sell Signal' not in plt.gca().get_legend_handles_labels()[1] else \"\", \n",
    "        alpha=0.25\n",
    "    )\n",
    "\n",
    "# Add labels, title, legend, and grid\n",
    "plt.title(\"Trading Signals Over Predicted Prices (Using Vertical Lines)\")\n",
    "plt.xlabel(\"Time\")\n",
    "plt.ylabel(\"Predicted Price\")\n",
    "plt.legend()\n",
    "plt.grid(True)\n",
    "plt.show()\n"
   ]
  },
  {
   "cell_type": "code",
   "execution_count": null,
   "metadata": {},
   "outputs": [],
   "source": []
  },
  {
   "cell_type": "code",
   "execution_count": null,
   "metadata": {},
   "outputs": [],
   "source": []
  },
  {
   "cell_type": "code",
   "execution_count": null,
   "metadata": {},
   "outputs": [],
   "source": []
  },
  {
   "cell_type": "code",
   "execution_count": null,
   "metadata": {},
   "outputs": [],
   "source": [
    "corr_matrix = df.corr()\n",
    "plt.figure(figsize=(16, 8))\n",
    "sns.heatmap(corr_matrix, cmap='coolwarm', annot=True, fmt=\".2f\")\n",
    "plt.show()"
   ]
  },
  {
   "cell_type": "code",
   "execution_count": null,
   "metadata": {},
   "outputs": [],
   "source": [
    "import cupy as cp\n",
    "X_train_gpu = cp.array(X_train)\n",
    "y_train_gpu = cp.array(y_train)\n"
   ]
  },
  {
   "cell_type": "code",
   "execution_count": null,
   "metadata": {},
   "outputs": [],
   "source": []
  },
  {
   "cell_type": "code",
   "execution_count": null,
   "metadata": {},
   "outputs": [],
   "source": [
    "# Sharpe Ratio Calculations\n",
    "\n",
    "\n",
    "# Ensure 'Buy Date' and 'Sell Date' are datetime\n",
    "trading_log_df['Buy Date'] = pd.to_datetime(trading_log_df['Buy Date'])\n",
    "trading_log_df['Sell Date'] = pd.to_datetime(trading_log_df['Sell Date'])\n",
    "\n",
    "# Add a 'Sell Date (Day)' column for aggregation\n",
    "trading_log_df['Sell Date (Day)'] = trading_log_df['Sell Date'].dt.date\n",
    "\n",
    "# Aggregate profit/loss by day\n",
    "daily_returns_df = trading_log_df.groupby('Sell Date (Day)')['Profit/Loss'].sum().reset_index()\n",
    "daily_returns_df.rename(columns={'Profit/Loss': 'Daily Profit/Loss'}, inplace=True)\n",
    "\n",
    "# Calculate daily returns as a percentage of the initial balance\n",
    "daily_returns_df['Daily Return'] = daily_returns_df['Daily Profit/Loss'] / initial_balance\n",
    "\n",
    "# Calculate average and standard deviation of daily returns\n",
    "average_daily_return = daily_returns_df['Daily Return'].mean()\n",
    "std_dev_daily_return = daily_returns_df['Daily Return'].std()\n",
    "\n",
    "# Compute Sharpe Ratio\n",
    "risk_free_rate = 0  # Assuming no risk-free rate for simplicity\n",
    "sharpe_ratio_estimator = (average_daily_return - risk_free_rate) / std_dev_daily_return\n",
    "\n",
    "print(f\"Sharpe Ratio (Estimator): {sharpe_ratio_estimator:.2f}\")\n",
    "\n",
    "\n",
    "\n",
    "\n",
    "# Total duration of the baseline strategy (in days)\n",
    "total_days = (results_df.index[-1] - results_df.index[0]).days\n",
    "\n",
    "# Baseline return: Profit/Loss normalized by initial balance\n",
    "baseline_return = (final_price - initial_price) / initial_price\n",
    "\n",
    "# Average daily return for the baseline\n",
    "baseline_average_daily_return = baseline_return / total_days\n",
    "\n",
    "# Standard deviation of daily returns for baseline (set a small epsilon if zero)\n",
    "baseline_std_dev_daily_return = max(np.std([baseline_return]), 1e-8)  # Avoid division by zero\n",
    "\n",
    "# Compute Sharpe Ratio for baseline\n",
    "sharpe_ratio_baseline = baseline_average_daily_return / baseline_std_dev_daily_return\n",
    "\n",
    "# Print results\n",
    "print(f\"Baseline Return: {baseline_return * 100:.2f}%\")\n",
    "print(f\"Baseline Average Daily Return: {baseline_average_daily_return * 100:.4f}%\")\n",
    "print(f\"Baseline Sharpe Ratio: {sharpe_ratio_baseline}\")\n",
    "\n"
   ]
  },
  {
   "cell_type": "code",
   "execution_count": null,
   "metadata": {},
   "outputs": [],
   "source": []
  },
  {
   "cell_type": "code",
   "execution_count": null,
   "metadata": {},
   "outputs": [],
   "source": []
  },
  {
   "cell_type": "code",
   "execution_count": null,
   "metadata": {},
   "outputs": [],
   "source": []
  },
  {
   "cell_type": "code",
   "execution_count": null,
   "metadata": {},
   "outputs": [],
   "source": []
  },
  {
   "cell_type": "code",
   "execution_count": null,
   "metadata": {},
   "outputs": [],
   "source": []
  },
  {
   "cell_type": "code",
   "execution_count": null,
   "metadata": {},
   "outputs": [],
   "source": [
    "def generate_signals(predictions, actual_prices, buy_threshold, sell_threshold):\n",
    "    signals = [\n",
    "        1 if pred - actual < buy_threshold else -1 if pred - actual > sell_threshold else 0\n",
    "        for pred, actual in zip(predictions, actual_prices)\n",
    "    ]\n",
    "    return signals\n",
    "from sklearn.base import BaseEstimator\n",
    "\n",
    "class ThresholdOptimizer(BaseEstimator):\n",
    "    def __init__(self, buy_threshold=-0.5, sell_threshold=0.5):\n",
    "        self.buy_threshold = buy_threshold\n",
    "        self.sell_threshold = sell_threshold\n",
    "\n",
    "    def fit(self, X, y=None):\n",
    "        # No training required for this optimizer\n",
    "        return self\n",
    "\n",
    "    def predict(self, X):\n",
    "        # Generate signals based on thresholds\n",
    "        return [\n",
    "            1 if pred < self.buy_threshold else -1 if pred > self.sell_threshold else 0\n",
    "            for pred in X\n",
    "        ]\n",
    "\n",
    "\n",
    "from sklearn.metrics import make_scorer\n",
    "from sklearn.model_selection import GridSearchCV\n",
    "# Define parameter grid\n",
    "param_grid = {\n",
    "    'buy_threshold': np.linspace(-2.0, -1, 10),\n",
    "    'sell_threshold': np.linspace(0.1, 2.0, 10),\n",
    "}\n",
    "\n",
    "class CustomGridSearchCV(GridSearchCV):\n",
    "    def __init__(self, estimator, param_grid, cv=5, verbose=0):\n",
    "        super().__init__(estimator=estimator, param_grid=param_grid, cv=cv, verbose=verbose)\n",
    "        print(f'Custom Grid INIT!!!!')\n",
    "    \n",
    "    def custom_scorer(self, X, y):\n",
    "        \"\"\"\n",
    "        Custom scoring function that directly uses self.estimator.\n",
    "        \"\"\"\n",
    "        try:\n",
    "            print(f'Scoring... {X}')\n",
    "            signals = self.best_estimator_.predict(X)\n",
    "            \n",
    "            if len(signals) != len(y):\n",
    "                raise ValueError(\"Signals and target length mismatch.\")\n",
    "            \n",
    "            profit_loss = 0\n",
    "            for i in range(len(y) - 1):\n",
    "                if signals[i] == 1:  # Buy signal\n",
    "                    profit_loss += y[i + 1] - y[i]\n",
    "                elif signals[i] == -1:  # Sell signal\n",
    "                    profit_loss += y[i] - y[i + 1]\n",
    "            \n",
    "            return profit_loss\n",
    "\n",
    "        except Exception as e:\n",
    "            print(f\"Error in scoring: {e}\")\n",
    "            return -float('inf')  # Penalize invalid scoring\n",
    "\n",
    "    def score(self, X, y, greater_is_better=True):\n",
    "        # Use the custom scoring function\n",
    "        print(f'Custom Grid SCORING!!!!')\n",
    "        return self.custom_scorer(X, y)\n",
    "\n",
    "# Use the CustomGridSearchCV class\n",
    "custom_grid_search = CustomGridSearchCV(\n",
    "    estimator=ThresholdOptimizer(),\n",
    "    param_grid=param_grid,\n",
    "    cv=5,\n",
    "    verbose=3\n",
    ")\n",
    "\n",
    "# Perform the search\n",
    "# Add predictions to the training data\n",
    "X_train['Predicted Change'] = y_pred_train  # Replace 'y_pred_train' with actual predictions\n",
    "# Perform the search\n",
    "grid_search.fit(X_train['Predicted Change'].values.reshape(-1, 1), y_train)\n",
    "\n",
    "\n",
    "# Get the best thresholds\n",
    "best_params = grid_search.best_params_\n",
    "print(f\"Best Buy Threshold: {best_params['buy_threshold']}\")\n",
    "print(f\"Best Sell Threshold: {best_params['sell_threshold']}\")\n",
    "\n",
    "\n"
   ]
  },
  {
   "cell_type": "code",
   "execution_count": null,
   "metadata": {},
   "outputs": [],
   "source": [
    "def simulate_trades_with_penalty(predicted_changes, signals, initial_balance=1000):\n",
    "    balance = initial_balance\n",
    "    position = 0\n",
    "    trades = 0  # Count the number of trades\n",
    "    penalty = 0  # Initialize penalty for excessive trading\n",
    "\n",
    "    for change, signal in zip(predicted_changes, signals):\n",
    "        if signal == \"Buy\":\n",
    "            position += balance / 100\n",
    "            balance = 0\n",
    "            trades += 1\n",
    "        elif signal == \"Sell\" and position > 0:\n",
    "            balance += position * (1 + change / 100)\n",
    "            position = 0\n",
    "            trades += 1\n",
    "        # \"Hold\" means do nothing\n",
    "    \n",
    "    balance += position * (1 + predicted_changes.iloc[-1] / 100)\n",
    "    \n",
    "    # Apply penalty for excessive trades\n",
    "    penalty = -0.01 * trades  # Example penalty, adjust as needed\n",
    "    return balance - initial_balance + penalty\n"
   ]
  }
 ],
 "metadata": {
  "kernelspec": {
   "display_name": "binbot",
   "language": "python",
   "name": "python3"
  },
  "language_info": {
   "codemirror_mode": {
    "name": "ipython",
    "version": 3
   },
   "file_extension": ".py",
   "mimetype": "text/x-python",
   "name": "python",
   "nbconvert_exporter": "python",
   "pygments_lexer": "ipython3",
   "version": "3.10.16"
  }
 },
 "nbformat": 4,
 "nbformat_minor": 2
}
